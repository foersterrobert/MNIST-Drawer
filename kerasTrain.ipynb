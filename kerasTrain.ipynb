{
 "cells": [
  {
   "cell_type": "code",
   "execution_count": 1,
   "metadata": {},
   "outputs": [],
   "source": [
    "import numpy as np\n",
    "from tensorflow import keras\n",
    "from tensorflow.keras.regularizers import l2\n",
    "from tensorflow.keras.layers import Dense, Flatten, Conv2D, MaxPooling2D, Dropout, BatchNormalization, Activation"
   ]
  },
  {
   "cell_type": "code",
   "execution_count": 2,
   "metadata": {},
   "outputs": [],
   "source": [
    "batch_size = 64\n",
    "epochs = 30\n",
    "num_classes = 10"
   ]
  },
  {
   "cell_type": "code",
   "execution_count": 3,
   "metadata": {},
   "outputs": [],
   "source": [
    "input_shape = (28, 28, 1)\n",
    "(x_train, y_train), (x_test, y_test) = keras.datasets.mnist.load_data()\n",
    "\n",
    "x_train = x_train.astype(\"float32\") / 255\n",
    "x_train = (x_train - 0.1307) / 0.3081\n",
    "x_test = x_test.astype(\"float32\") / 255\n",
    "x_test = (x_test - 0.1307) / 0.3081\n",
    "\n",
    "x_train = np.expand_dims(x_train, -1)\n",
    "x_test = np.expand_dims(x_test, -1)\n",
    "\n",
    "y_train = keras.utils.to_categorical(y_train, num_classes)\n",
    "y_test = keras.utils.to_categorical(y_test, num_classes)"
   ]
  },
  {
   "cell_type": "code",
   "execution_count": 6,
   "metadata": {},
   "outputs": [],
   "source": [
    "model = keras.Sequential(\n",
    "    [\n",
    "        # 1x28x28\n",
    "        Conv2D(filters = 32, kernel_size = 5, strides = 1, padding=\"same\", activation = 'relu', input_shape = (28,28,1), kernel_regularizer=l2(0.0005)),\n",
    "        # 32x28x28\n",
    "        Conv2D(filters = 32, kernel_size = 5, strides = 1, padding=\"same\", use_bias=False),\n",
    "        # 32x28x28\n",
    "        BatchNormalization(),\n",
    "        Activation('relu'),\n",
    "        MaxPooling2D(pool_size = 2, strides = 2),\n",
    "        Dropout(0.25),\n",
    "        # 32x14x14\n",
    "        Conv2D(filters = 64, kernel_size = 3, strides = 1, activation = 'relu', kernel_regularizer=l2(0.0005)),\n",
    "        # 64x12x12\n",
    "        Conv2D(filters = 64, kernel_size = 3, strides = 1, use_bias=False),\n",
    "        # 64x10x10\n",
    "        BatchNormalization(),\n",
    "        Activation('relu'),\n",
    "        MaxPooling2D(pool_size = 2, strides = 2), # 64x5x5\n",
    "        Dropout(0.25),\n",
    "        Flatten(),\n",
    "        Dense(units = 256, use_bias=False), # 256\n",
    "        BatchNormalization(),\n",
    "        Activation('relu'),\n",
    "        Dense(units = 128, use_bias=False), # 128\n",
    "        BatchNormalization(),\n",
    "        Activation('relu'),\n",
    "        Dense(units = 84, use_bias=False), # 84\n",
    "        BatchNormalization(),\n",
    "        Activation('relu'),\n",
    "        Dropout(0.25),\n",
    "        Dense(units = 10, activation = 'softmax') # 10\n",
    "    ]\n",
    ")"
   ]
  },
  {
   "cell_type": "code",
   "execution_count": 8,
   "metadata": {},
   "outputs": [
    {
     "name": "stdout",
     "output_type": "stream",
     "text": [
      "Epoch 1/30\n",
      "938/938 [==============================] - 215s 228ms/step - loss: 0.1955 - accuracy: 0.9510\n",
      "Epoch 2/30\n",
      "938/938 [==============================] - 215s 229ms/step - loss: 0.0820 - accuracy: 0.9806\n",
      "Epoch 3/30\n",
      "938/938 [==============================] - 222s 237ms/step - loss: 0.0629 - accuracy: 0.9850\n",
      "Epoch 4/30\n",
      "938/938 [==============================] - 219s 233ms/step - loss: 0.0533 - accuracy: 0.9869 - loss: 0.0533 - accura\n",
      "Epoch 5/30\n",
      "938/938 [==============================] - 205s 218ms/step - loss: 0.0459 - accuracy: 0.9890\n",
      "Epoch 6/30\n",
      "938/938 [==============================] - 198s 211ms/step - loss: 0.0441 - accuracy: 0.9889\n",
      "Epoch 7/30\n",
      "938/938 [==============================] - 194s 206ms/step - loss: 0.0406 - accuracy: 0.9904\n",
      "Epoch 8/30\n",
      "938/938 [==============================] - 192s 205ms/step - loss: 0.0378 - accuracy: 0.9902\n",
      "Epoch 9/30\n",
      "938/938 [==============================] - 192s 205ms/step - loss: 0.0350 - accuracy: 0.9919\n",
      "Epoch 10/30\n",
      "938/938 [==============================] - 193s 206ms/step - loss: 0.0338 - accuracy: 0.9919\n",
      "Epoch 11/30\n",
      "938/938 [==============================] - 186s 198ms/step - loss: 0.0309 - accuracy: 0.9929\n",
      "Epoch 12/30\n",
      "938/938 [==============================] - 182s 195ms/step - loss: 0.0287 - accuracy: 0.9938\n",
      "Epoch 13/30\n",
      "938/938 [==============================] - 181s 193ms/step - loss: 0.0304 - accuracy: 0.9928\n",
      "Epoch 14/30\n",
      "938/938 [==============================] - 180s 192ms/step - loss: 0.0271 - accuracy: 0.9936\n",
      "Epoch 15/30\n",
      "938/938 [==============================] - 197s 210ms/step - loss: 0.0259 - accuracy: 0.9940\n",
      "Epoch 16/30\n",
      "938/938 [==============================] - 200s 213ms/step - loss: 0.0253 - accuracy: 0.9941\n",
      "Epoch 17/30\n",
      "938/938 [==============================] - 193s 205ms/step - loss: 0.0237 - accuracy: 0.9945\n",
      "Epoch 18/30\n",
      "938/938 [==============================] - 192s 204ms/step - loss: 0.0236 - accuracy: 0.9949\n",
      "Epoch 19/30\n",
      "938/938 [==============================] - 194s 207ms/step - loss: 0.0213 - accuracy: 0.9952\n",
      "Epoch 20/30\n",
      "938/938 [==============================] - 192s 205ms/step - loss: 0.0219 - accuracy: 0.9948\n",
      "Epoch 21/30\n",
      "938/938 [==============================] - 193s 206ms/step - loss: 0.0202 - accuracy: 0.9955\n",
      "Epoch 22/30\n",
      "938/938 [==============================] - 194s 206ms/step - loss: 0.0217 - accuracy: 0.9951\n",
      "Epoch 23/30\n",
      "938/938 [==============================] - 193s 205ms/step - loss: 0.0210 - accuracy: 0.9955\n",
      "Epoch 24/30\n",
      "938/938 [==============================] - 192s 205ms/step - loss: 0.0188 - accuracy: 0.9957\n",
      "Epoch 25/30\n",
      "938/938 [==============================] - 195s 207ms/step - loss: 0.0170 - accuracy: 0.9965\n",
      "Epoch 26/30\n",
      "938/938 [==============================] - 192s 205ms/step - loss: 0.0189 - accuracy: 0.9957\n",
      "Epoch 27/30\n",
      "938/938 [==============================] - 193s 205ms/step - loss: 0.0181 - accuracy: 0.9963\n",
      "Epoch 28/30\n",
      "938/938 [==============================] - 194s 207ms/step - loss: 0.0161 - accuracy: 0.9964\n",
      "Epoch 29/30\n",
      "938/938 [==============================] - 193s 205ms/step - loss: 0.0155 - accuracy: 0.9967\n",
      "Epoch 30/30\n",
      "938/938 [==============================] - 194s 206ms/step - loss: 0.0174 - accuracy: 0.9963\n"
     ]
    },
    {
     "data": {
      "text/plain": [
       "<tensorflow.python.keras.callbacks.History at 0x21902ef3b88>"
      ]
     },
     "execution_count": 8,
     "metadata": {},
     "output_type": "execute_result"
    }
   ],
   "source": [
    "model.compile(loss=keras.losses.CategoricalCrossentropy(), optimizer=\"adam\", metrics=[\"accuracy\"])\n",
    "model.fit(x_train, y_train, batch_size=batch_size, epochs=epochs)"
   ]
  },
  {
   "cell_type": "code",
   "execution_count": 9,
   "metadata": {},
   "outputs": [
    {
     "name": "stdout",
     "output_type": "stream",
     "text": [
      "Test accuracy: 0.9944000244140625\n"
     ]
    }
   ],
   "source": [
    "score = model.evaluate(x_test, y_test, verbose=0)\n",
    "print(\"Test accuracy:\", score[1])"
   ]
  },
  {
   "cell_type": "code",
   "execution_count": 10,
   "metadata": {},
   "outputs": [
    {
     "name": "stdout",
     "output_type": "stream",
     "text": [
      "INFO:tensorflow:Assets written to: ./models/Keras\\assets\n"
     ]
    }
   ],
   "source": [
    "model.save('./models/Keras')"
   ]
  }
 ],
 "metadata": {
  "interpreter": {
   "hash": "6b8149ac4395d9070500b42afe2f3634df0963551b295706ab1eed5a6da2e06c"
  },
  "kernelspec": {
   "display_name": "Python 3.7.10 64-bit ('capgemini': conda)",
   "language": "python",
   "name": "python3"
  },
  "language_info": {
   "codemirror_mode": {
    "name": "ipython",
    "version": 3
   },
   "file_extension": ".py",
   "mimetype": "text/x-python",
   "name": "python",
   "nbconvert_exporter": "python",
   "pygments_lexer": "ipython3",
   "version": "3.7.10"
  },
  "orig_nbformat": 4
 },
 "nbformat": 4,
 "nbformat_minor": 2
}
