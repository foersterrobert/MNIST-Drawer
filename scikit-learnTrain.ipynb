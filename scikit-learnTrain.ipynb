{
 "cells": [
  {
   "cell_type": "code",
   "execution_count": null,
   "source": [
    "from sklearn import datasets, svm\r\n",
    "from sklearn.model_selection import train_test_split\r\n",
    "from sklearn.utils import check_random_state\r\n",
    "from sklearn.preprocessing import StandardScaler"
   ],
   "outputs": [],
   "metadata": {}
  },
  {
   "cell_type": "code",
   "execution_count": 11,
   "source": [
    "X, y = datasets.fetch_openml('mnist_784', version=1, return_X_y=True, as_frame=False)\r\n",
    "\r\n",
    "random_state = check_random_state(0)\r\n",
    "permutation = random_state.permutation(X.shape[0])\r\n",
    "X = X[permutation]\r\n",
    "y = y[permutation]\r\n",
    "\r\n",
    "clf = svm.SVC(gamma=0.001, probability=True)"
   ],
   "outputs": [],
   "metadata": {}
  },
  {
   "cell_type": "code",
   "execution_count": null,
   "source": [
    "X_train, X_test, y_train, y_test = train_test_split(\r\n",
    "    X, y, test_size=0.1, shuffle=False)\r\n",
    "\r\n",
    "scaler = StandardScaler()\r\n",
    "X_train = scaler.fit_transform(X_train)\r\n",
    "X_test = scaler.transform(X_test)"
   ],
   "outputs": [],
   "metadata": {}
  },
  {
   "cell_type": "code",
   "execution_count": null,
   "source": [
    "clf.fit(X_train, y_train)"
   ],
   "outputs": [],
   "metadata": {}
  },
  {
   "cell_type": "code",
   "execution_count": null,
   "source": [
    "predicted = clf.predict_proba(X_test)\r\n",
    "score = clf.score(X_test, y_test)\r\n",
    "print(score)"
   ],
   "outputs": [],
   "metadata": {}
  },
  {
   "cell_type": "code",
   "execution_count": null,
   "source": [
    "# save model\r\n",
    "import pickle\r\n",
    "filename = 'scikit-learn.sav'\r\n",
    "pickle.dump(clf, open(filename, 'wb'))"
   ],
   "outputs": [],
   "metadata": {}
  }
 ],
 "metadata": {
  "orig_nbformat": 4,
  "language_info": {
   "name": "python",
   "version": "3.8.11",
   "mimetype": "text/x-python",
   "codemirror_mode": {
    "name": "ipython",
    "version": 3
   },
   "pygments_lexer": "ipython3",
   "nbconvert_exporter": "python",
   "file_extension": ".py"
  },
  "kernelspec": {
   "name": "python3",
   "display_name": "Python 3.8.11 64-bit ('ml': conda)"
  },
  "interpreter": {
   "hash": "641c9771352f0f5a731c80080fe0d7a4e8d9c2b8d2cd0a90c198d2fd82280dac"
  }
 },
 "nbformat": 4,
 "nbformat_minor": 2
}