{
 "cells": [
  {
   "cell_type": "code",
   "execution_count": null,
   "metadata": {},
   "outputs": [],
   "source": [
    "import numpy as np"
   ]
  },
  {
   "cell_type": "code",
   "execution_count": null,
   "metadata": {},
   "outputs": [],
   "source": [
    "class MLP:\n",
    "    def __init__(self):\n",
    "        self.W1 = np.random.rand(512, 784) - 0.5\n",
    "        self.W2 = np.random.rand(240, 512) - 0.5\n",
    "        self.W3 = np.random.rand(10, 240) - 0.5\n",
    "        self.b1 = np.random.rand(512, 1) - 0.5\n",
    "        self.b2 = np.random.rand(240, 1) - 0.5\n",
    "        self.b3 = np.random.rand(10, 1) - 0.5\n",
    "\n",
    "    def forward(self, X, train=False):\n",
    "        Z1 = np.dot(self.W1, X) + self.b1\n",
    "        A1 = self.ReLU(Z1)\n",
    "        Z2 = np.dot(self.W2, A1) + self.b2\n",
    "        A2 = self.ReLU(Z2)\n",
    "        Z3 = np.dot(self.W3, A2) + self.b3\n",
    "        yHat = self.softmax(Z3)\n",
    "        if train:\n",
    "            return yHat, Z1, Z2, Z3, A1, A2\n",
    "        return yHat\n",
    "\n",
    "    def backward(self, X, y, yHat):\n",
    "        pass\n",
    "\n",
    "    def ReLU(self, Z):\n",
    "        return np.maximum(0, Z)\n",
    "\n",
    "    def ReLU_deriv(self, Z):\n",
    "        return Z > 0\n",
    "\n",
    "    def softmax(self, Z):\n",
    "        Z = np.exp((Z - np.min(Z)) / (np.max(Z) - np.min(Z)))\n",
    "        return Z / np.sum(Z)"
   ]
  },
  {
   "cell_type": "code",
   "execution_count": null,
   "metadata": {},
   "outputs": [],
   "source": [
    "mlp = MLP()\n",
    "\n",
    "digit = np.random.randn(784, 1)\n",
    "print(mlp.forward(digit))"
   ]
  }
 ],
 "metadata": {
  "interpreter": {
   "hash": "2177f1ca12c1330a133c1d40b46100b268ab447cddcbdfdc0c7b2b7e4840e700"
  },
  "kernelspec": {
   "display_name": "Python 3.8.12 ('myenv')",
   "language": "python",
   "name": "python3"
  },
  "language_info": {
   "codemirror_mode": {
    "name": "ipython",
    "version": 3
   },
   "file_extension": ".py",
   "mimetype": "text/x-python",
   "name": "python",
   "nbconvert_exporter": "python",
   "pygments_lexer": "ipython3",
   "version": "3.8.12"
  },
  "orig_nbformat": 4
 },
 "nbformat": 4,
 "nbformat_minor": 2
}
